{
 "cells": [
  {
   "cell_type": "markdown",
   "id": "c239b168",
   "metadata": {},
   "source": [
    "---\n",
    "\n",
    "<h1><center>Linear regression and Feature selection </center></h1>\n",
    "\n",
    "---\n",
    "\n",
    "In this lab we will use linear regression to predict cancer mortality rates based on data obtained from the American Community Survey of the [U.S. Census Bureau](https://www.census.gov/). The lab has four parts. In part 1 you will load the data and do basic manipulations using [pandas](https://pandas.pydata.org/docs/index.html). In part 2 you will perform basic linear regression on the full feature set. In part 3 you will compute confidence intervals and perform hypothesis tests on the paramters from part 2. Then in part 4 you will run the forward and backward stepwise feature selection algorithms and estimate the performance of the resulting model using a test dataset.\n",
    "\n"
   ]
  },
  {
   "cell_type": "code",
   "execution_count": 1,
   "id": "52910bde",
   "metadata": {},
   "outputs": [
    {
     "name": "stderr",
     "output_type": "stream",
     "text": [
      "C:\\Users\\brian\\anaconda3\\lib\\site-packages\\pandas\\core\\computation\\expressions.py:20: UserWarning: Pandas requires version '2.7.3' or newer of 'numexpr' (version '2.7.1' currently installed).\n",
      "  from pandas.core.computation.check import NUMEXPR_INSTALLED\n"
     ]
    }
   ],
   "source": [
    "import numpy as np\n",
    "import matplotlib.pyplot as plt\n",
    "import pandas as pd\n",
    "import scipy.stats as stats"
   ]
  },
  {
   "cell_type": "markdown",
   "id": "be17eed8",
   "metadata": {},
   "source": [
    "<h1><font color='purple'> Part 1:  Loading and cleaning the data</font></h1>"
   ]
  },
  {
   "cell_type": "markdown",
   "id": "ec194b61",
   "metadata": {},
   "source": [
    "## 1.1 Load the data into a pandas DataFrame\n",
    "\n",
    "See a description of the data [here](https://data.world/nrippner/ols-regression-challenge).\n",
    "\n",
    "You can obtain information about the data using these pandas commands:\n",
    "+ `data.head()` to see the first 5 rows of the DataFrame.\n",
    "+ `data.tail()` to see the last 5 rows of the DataFrame.\n",
    "+ `data.shape` is the tuple (number of rows, number of columns).\n",
    "+ `data.columns` contains the column labels.\n",
    "+ `data.index` contains the row labels."
   ]
  },
  {
   "cell_type": "code",
   "execution_count": 2,
   "id": "bcd1e3fe",
   "metadata": {},
   "outputs": [],
   "source": [
    "data = pd.read_csv('cancerdata.csv')"
   ]
  },
  {
   "cell_type": "markdown",
   "id": "17d49c13",
   "metadata": {},
   "source": [
    "## 1.2 Inspect columns\n",
    "\n",
    "Run `data.info()` and note:\n",
    " a) which columns are non-numeric (Dtype=object), and\n",
    " b) which have null entries (Non-Null Count<3047)."
   ]
  },
  {
   "cell_type": "code",
   "execution_count": 3,
   "id": "05b63a03",
   "metadata": {},
   "outputs": [
    {
     "name": "stdout",
     "output_type": "stream",
     "text": [
      "<class 'pandas.core.frame.DataFrame'>\n",
      "RangeIndex: 3047 entries, 0 to 3046\n",
      "Data columns (total 28 columns):\n",
      " #   Column                   Non-Null Count  Dtype  \n",
      "---  ------                   --------------  -----  \n",
      " 0   target_deathrate         3047 non-null   float64\n",
      " 1   incidencerate            3047 non-null   float64\n",
      " 2   medincome                3047 non-null   int64  \n",
      " 3   povertypercent           3047 non-null   float64\n",
      " 4   binnedinc                3047 non-null   object \n",
      " 5   medianage                3047 non-null   float64\n",
      " 6   geography                3047 non-null   object \n",
      " 7   avghouseholdsize         3047 non-null   float64\n",
      " 8   percentmarried           3047 non-null   float64\n",
      " 9   pctnohs18_24             3047 non-null   float64\n",
      " 10  pcths18_24               3047 non-null   float64\n",
      " 11  pctsomecol18_24          762 non-null    float64\n",
      " 12  pctbachdeg18_24          3047 non-null   float64\n",
      " 13  pcths25_over             3047 non-null   float64\n",
      " 14  pctbachdeg25_over        3047 non-null   float64\n",
      " 15  pctemployed16_over       2895 non-null   float64\n",
      " 16  pctunemployed16_over     3047 non-null   float64\n",
      " 17  pctprivatecoverage       3047 non-null   float64\n",
      " 18  pctprivatecoveragealone  2438 non-null   float64\n",
      " 19  pctempprivcoverage       3047 non-null   float64\n",
      " 20  pctpubliccoverage        3047 non-null   float64\n",
      " 21  pctpubliccoveragealone   3047 non-null   float64\n",
      " 22  pctwhite                 3047 non-null   float64\n",
      " 23  pctblack                 3047 non-null   float64\n",
      " 24  pctasian                 3047 non-null   float64\n",
      " 25  pctotherrace             3047 non-null   float64\n",
      " 26  pctmarriedhouseholds     3047 non-null   float64\n",
      " 27  birthrate                3047 non-null   float64\n",
      "dtypes: float64(25), int64(1), object(2)\n",
      "memory usage: 666.7+ KB\n"
     ]
    }
   ],
   "source": [
    "data.info()"
   ]
  },
  {
   "cell_type": "markdown",
   "id": "c83d0fbb",
   "metadata": {},
   "source": [
    "## 1.3 Discard non-numerical columns\n",
    "\n",
    "Remove the two columns with non-numeric data.\n",
    "Hints:\n",
    "+ `data.dtypes` lists the data types for each column.\n",
    "+ You can construct a boolean indicator array of non-numeric colums with `data.dtypes=='object'`.\n",
    "+ Use that array to index `data.columns`\n",
    "+ Use [`data.drop`](https://pandas.pydata.org/docs/reference/api/pandas.DataFrame.drop.html) to remove the selected columns"
   ]
  },
  {
   "cell_type": "code",
   "execution_count": 4,
   "id": "a259db05",
   "metadata": {},
   "outputs": [
    {
     "name": "stdout",
     "output_type": "stream",
     "text": [
      "target_deathrate           False\n",
      "incidencerate              False\n",
      "medincome                  False\n",
      "povertypercent             False\n",
      "binnedinc                   True\n",
      "medianage                  False\n",
      "geography                   True\n",
      "avghouseholdsize           False\n",
      "percentmarried             False\n",
      "pctnohs18_24               False\n",
      "pcths18_24                 False\n",
      "pctsomecol18_24            False\n",
      "pctbachdeg18_24            False\n",
      "pcths25_over               False\n",
      "pctbachdeg25_over          False\n",
      "pctemployed16_over         False\n",
      "pctunemployed16_over       False\n",
      "pctprivatecoverage         False\n",
      "pctprivatecoveragealone    False\n",
      "pctempprivcoverage         False\n",
      "pctpubliccoverage          False\n",
      "pctpubliccoveragealone     False\n",
      "pctwhite                   False\n",
      "pctblack                   False\n",
      "pctasian                   False\n",
      "pctotherrace               False\n",
      "pctmarriedhouseholds       False\n",
      "birthrate                  False\n",
      "dtype: bool\n",
      "Index(['binnedinc', 'geography'], dtype='object')\n",
      "<class 'pandas.core.frame.DataFrame'>\n",
      "RangeIndex: 3047 entries, 0 to 3046\n",
      "Data columns (total 26 columns):\n",
      " #   Column                   Non-Null Count  Dtype  \n",
      "---  ------                   --------------  -----  \n",
      " 0   target_deathrate         3047 non-null   float64\n",
      " 1   incidencerate            3047 non-null   float64\n",
      " 2   medincome                3047 non-null   int64  \n",
      " 3   povertypercent           3047 non-null   float64\n",
      " 4   medianage                3047 non-null   float64\n",
      " 5   avghouseholdsize         3047 non-null   float64\n",
      " 6   percentmarried           3047 non-null   float64\n",
      " 7   pctnohs18_24             3047 non-null   float64\n",
      " 8   pcths18_24               3047 non-null   float64\n",
      " 9   pctsomecol18_24          762 non-null    float64\n",
      " 10  pctbachdeg18_24          3047 non-null   float64\n",
      " 11  pcths25_over             3047 non-null   float64\n",
      " 12  pctbachdeg25_over        3047 non-null   float64\n",
      " 13  pctemployed16_over       2895 non-null   float64\n",
      " 14  pctunemployed16_over     3047 non-null   float64\n",
      " 15  pctprivatecoverage       3047 non-null   float64\n",
      " 16  pctprivatecoveragealone  2438 non-null   float64\n",
      " 17  pctempprivcoverage       3047 non-null   float64\n",
      " 18  pctpubliccoverage        3047 non-null   float64\n",
      " 19  pctpubliccoveragealone   3047 non-null   float64\n",
      " 20  pctwhite                 3047 non-null   float64\n",
      " 21  pctblack                 3047 non-null   float64\n",
      " 22  pctasian                 3047 non-null   float64\n",
      " 23  pctotherrace             3047 non-null   float64\n",
      " 24  pctmarriedhouseholds     3047 non-null   float64\n",
      " 25  birthrate                3047 non-null   float64\n",
      "dtypes: float64(25), int64(1)\n",
      "memory usage: 619.0 KB\n"
     ]
    }
   ],
   "source": [
    "ind = data.dtypes=='object'\n",
    "print(ind)\n",
    "\n",
    "drop_cols = data.columns[ind]\n",
    "print(drop_cols)\n",
    "\n",
    "data = data.drop(columns=(drop_cols))\n",
    "data.info()"
   ]
  },
  {
   "cell_type": "markdown",
   "id": "67e69d77",
   "metadata": {},
   "source": [
    "## 1.4 Discard columns where more than 10% of values are nan\n",
    "\n",
    "Hints:\n",
    "+ [`data.dropna`](https://pandas.pydata.org/docs/reference/api/pandas.DataFrame.dropna.html)\n",
    "+ `axis` ... we are dropping columns\n",
    "+ `thresh` ... The condition for dropping a column is that it has less than `round(0.9*data.shape[0])` non-nans.\n"
   ]
  },
  {
   "cell_type": "code",
   "execution_count": 5,
   "id": "ddd757f2",
   "metadata": {},
   "outputs": [
    {
     "name": "stdout",
     "output_type": "stream",
     "text": [
      "2742\n"
     ]
    }
   ],
   "source": [
    "data.shape[0]\n",
    "\n",
    "thresh = round(0.9*data.shape[0])\n",
    "print(thresh)\n",
    "\n",
    "data = data.dropna(axis = 1, thresh = thresh) #axis = 1 drop columns"
   ]
  },
  {
   "cell_type": "markdown",
   "id": "921ecb25",
   "metadata": {},
   "source": [
    "## 1.5 Drop all rows that contain one or more nans.\n",
    "\n",
    "Hint: You can again use `data.dropna` for this."
   ]
  },
  {
   "cell_type": "code",
   "execution_count": 6,
   "id": "67e19d8d",
   "metadata": {},
   "outputs": [
    {
     "data": {
      "text/plain": [
       "2895"
      ]
     },
     "execution_count": 6,
     "metadata": {},
     "output_type": "execute_result"
    }
   ],
   "source": [
    "thresh = round(data.shape[1])\n",
    "data = data.dropna(axis = 0, thresh = thresh)\n",
    "data.shape[0]"
   ]
  },
  {
   "cell_type": "markdown",
   "id": "f70f8c29",
   "metadata": {},
   "source": [
    "## 1.6 Inspect correlations\n",
    "\n",
    "Next we'll look at the correlation coefficients between each of the features and the target variable `target_deathrate`.\n",
    "\n",
    "1) Use `data.corr()` to build the correlations matrix.\n",
    "2) Inspect the column (or row) corresponding to `target_deathrate`.\n",
    "3) Rank (i.e. sort) the features from most to least correlated with the output. This ranking is in terms of the absolute value of the correlation coefficient.\n",
    "4) Save the top 5 correlated features to `top_5_corr`. `top_5_corr` should be a numpy array with shape `(5,)`.\n",
    "\n",
    "Hints:\n",
    "+ [`abs`](https://pandas.pydata.org/docs/reference/api/pandas.Series.abs.html)\n",
    "+ [`sort_values`](https://pandas.pydata.org/docs/reference/api/pandas.Series.sort_values.html)\n",
    "+ [`to_numpy`](https://pandas.pydata.org/docs/reference/api/pandas.Series.to_numpy.html)"
   ]
  },
  {
   "cell_type": "code",
   "execution_count": 8,
   "id": "c87bed9a",
   "metadata": {},
   "outputs": [
    {
     "name": "stdout",
     "output_type": "stream",
     "text": [
      "target_deathrate          1.000000\n",
      "pctbachdeg25_over         0.482594\n",
      "pctpubliccoveragealone    0.448087\n",
      "incidencerate             0.428787\n",
      "medincome                 0.426784\n",
      "povertypercent            0.425083\n",
      "pctemployed16_over        0.412046\n",
      "pcths25_over              0.403842\n",
      "pctpubliccoverage         0.402141\n",
      "pctprivatecoverage        0.385420\n",
      "pctunemployed16_over      0.373750\n",
      "pctmarriedhouseholds      0.286233\n",
      "pctbachdeg18_24           0.285941\n",
      "pctempprivcoverage        0.264430\n",
      "pcths18_24                0.261246\n",
      "percentmarried            0.257639\n",
      "pctblack                  0.252774\n",
      "pctotherrace              0.189770\n",
      "pctasian                  0.186464\n",
      "pctwhite                  0.165104\n",
      "birthrate                 0.088058\n",
      "pctnohs18_24              0.080009\n",
      "avghouseholdsize          0.040009\n",
      "medianage                 0.001208\n",
      "Name: target_deathrate, dtype: float64\n",
      "pctbachdeg25_over         0.482594\n",
      "pctpubliccoveragealone    0.448087\n",
      "incidencerate             0.428787\n",
      "medincome                 0.426784\n",
      "povertypercent            0.425083\n",
      "Name: target_deathrate, dtype: float64\n",
      "['pctbachdeg25_over', 'pctpubliccoveragealone', 'incidencerate', 'medincome', 'povertypercent']\n",
      "['target_deathrate']\n"
     ]
    }
   ],
   "source": [
    "# correlation matrix\n",
    "C = data.corr()\n",
    "\n",
    "# vector correlations between the features and target_deathrate\n",
    "corr_target = abs(C.loc[:,\"target_deathrate\"])\n",
    "\n",
    "#print(corr_target)\n",
    "\n",
    "# sorted corr_target_sort\n",
    "corr_target_sort = corr_target.sort_values(ascending=False) #sort descending\n",
    "\n",
    "print(corr_target_sort)\n",
    "\n",
    "# top 5 correlations with target_deathrate\n",
    "top_5_sort = corr_target_sort.iloc[1:6] #sort top 5\n",
    "print(top_5_sort)\n",
    "top_5_sort = top_5_sort.keys().values.tolist() #get column names\n",
    "\n",
    "print(top_5_sort)\n",
    "\n",
    "targetdeathrate = corr_target_sort.iloc[0:1]\n",
    "targetdeathrate = targetdeathrate.keys().values.tolist()\n",
    "print(targetdeathrate)"
   ]
  },
  {
   "cell_type": "markdown",
   "id": "deac49bf",
   "metadata": {},
   "source": [
    "## 1.7 Scatter plot\n",
    "\n",
    "Make a scatter plot of the data with the most correlated feature along the x axis, and the target along the y axis.\n",
    "\n",
    "Hint: You can use the plotting function attached to the DataFrame: [data.plot(kind='scatter',x=..., y=...)](https://pandas.pydata.org/docs/reference/api/pandas.DataFrame.plot.html)"
   ]
  },
  {
   "cell_type": "code",
   "execution_count": 9,
   "id": "32efa81a",
   "metadata": {},
   "outputs": [
    {
     "data": {
      "text/plain": [
       "<matplotlib.axes._subplots.AxesSubplot at 0x283f41bd460>"
      ]
     },
     "execution_count": 9,
     "metadata": {},
     "output_type": "execute_result"
    },
    {
     "data": {
      "image/png": "[encoded data removed]",
      "text/plain": [
       "<Figure size 432x288 with 1 Axes>"
      ]
     },
     "metadata": {
      "needs_background": "light"
     },
     "output_type": "display_data"
    }
   ],
   "source": [
    "data.plot(kind='scatter',x=top_5_sort[0],y=targetdeathrate)"
   ]
  },
  {
   "cell_type": "markdown",
   "id": "d6536628",
   "metadata": {},
   "source": [
    "---\n",
    "\n",
    "<h1><font color='purple'> Part 2: Linear regression - Point estimates</font></h1>"
   ]
  },
  {
   "cell_type": "markdown",
   "id": "a9ad829d",
   "metadata": {},
   "source": [
    "## 2.1 Extract data matrices\n",
    "\n",
    "The next cell extracts the `X` and `Y` matrices from `data`. It also makes a list of `features`, and defines dimensions `N` and `D`."
   ]
  },
  {
   "cell_type": "code",
   "execution_count": 10,
   "id": "0ff35c54",
   "metadata": {},
   "outputs": [
    {
     "name": "stdout",
     "output_type": "stream",
     "text": [
      "(2895, 23)\n",
      "(2895,)\n",
      "2895\n",
      "23\n"
     ]
    }
   ],
   "source": [
    "X = data.drop(columns='target_deathrate').values\n",
    "features = data.columns.values\n",
    "features = features[features!='target_deathrate']\n",
    "Y = data['target_deathrate'].values\n",
    "print(X.shape)\n",
    "print(Y.shape)\n",
    "D = X.shape[1]\n",
    "N = Y.shape[0]\n",
    "print(N)\n",
    "print(D)"
   ]
  },
  {
   "cell_type": "markdown",
   "id": "cd571e72",
   "metadata": {},
   "source": [
    "## 2.2 Center the inputs\n",
    "\n",
    "## $\\mathbf{\\bar{X}} = \\text{mean}(\\mathbf{X})$\n",
    "## $\\Phi=\\mathbf{X}-\\mathbf{\\bar{X}}$\n",
    "\n",
    "Compute the column-wise means `Xbar` and subtract them from `X` to obtain `Phi`. Hint: Use `X.mean(axis=...)`. Should it be `axis=0` or `axis=1`? Check that the column-wise means of `Phi` equal zero (to machine precision). "
   ]
  },
  {
   "cell_type": "code",
   "execution_count": 11,
   "id": "75a06b4a",
   "metadata": {},
   "outputs": [
    {
     "data": {
      "text/plain": [
       "(2895, 23)"
      ]
     },
     "execution_count": 11,
     "metadata": {},
     "output_type": "execute_result"
    }
   ],
   "source": [
    "Xbar = X.mean(axis=0)\n",
    "Phi = X-Xbar\n",
    "Phi.shape"
   ]
  },
  {
   "cell_type": "markdown",
   "id": "7e4935f8",
   "metadata": {},
   "source": [
    "## 2.3 Compute the intercept term \n",
    "\n",
    "## $\\theta_0 = \\text{mean}(\\mathbf{Y})$"
   ]
  },
  {
   "cell_type": "code",
   "execution_count": 12,
   "id": "320c77c9",
   "metadata": {},
   "outputs": [],
   "source": [
    "theta0 = Y.mean()"
   ]
  },
  {
   "cell_type": "markdown",
   "id": "5dd796dd",
   "metadata": {},
   "source": [
    "## 2.4 Center the output\n",
    "\n",
    "## $\\mathbf{\\tilde{Y}} = \\mathbf{Y} - \\theta_0$"
   ]
  },
  {
   "cell_type": "code",
   "execution_count": 13,
   "id": "c4357204",
   "metadata": {},
   "outputs": [],
   "source": [
    "Ytilde = Y - theta0"
   ]
  },
  {
   "cell_type": "markdown",
   "id": "e972d820",
   "metadata": {},
   "source": [
    "## 2.5 Compute $V=(\\Phi^T \\Phi)^{-1}$\n",
    "\n",
    "Hints:\n",
    "+ numpy's @ operator and matrix transposition (`Phi.T`). See [this](https://numpy.org/devdocs/user/numpy-for-matlab-users.html) summary of the key differences between numpy and Matlab.\n",
    "+ [np.linalg.inv](https://numpy.org/doc/stable/reference/generated/numpy.linalg.inv.html)\n"
   ]
  },
  {
   "cell_type": "code",
   "execution_count": 14,
   "id": "9f82bdc3",
   "metadata": {},
   "outputs": [],
   "source": [
    "V = np.linalg.inv(Phi.T@Phi)"
   ]
  },
  {
   "cell_type": "markdown",
   "id": "594324a8",
   "metadata": {},
   "source": [
    "## 2.6 Compute the least squares estimates of the parameters\n",
    "\n",
    "### ${\\underline\\theta} = (\\Phi^T\\Phi)^{-1}\\Phi^{T} \\mathbf{\\tilde{Y}}$"
   ]
  },
  {
   "cell_type": "code",
   "execution_count": 15,
   "id": "63a66ef6",
   "metadata": {},
   "outputs": [],
   "source": [
    "theta = V@Phi.T@Ytilde"
   ]
  },
  {
   "cell_type": "markdown",
   "id": "9447c826",
   "metadata": {},
   "source": [
    "## 2.7 Compute predictions for each of the samples\n",
    "\n",
    "### $\\mathbf{\\hat{Y}} = \\theta_0 + \\Phi\\underline\\theta$\n"
   ]
  },
  {
   "cell_type": "code",
   "execution_count": 16,
   "id": "7dd77114",
   "metadata": {},
   "outputs": [],
   "source": [
    "Yhat = theta0 + Phi@theta"
   ]
  },
  {
   "cell_type": "markdown",
   "id": "cb1ed4a2",
   "metadata": {},
   "source": [
    "---\n",
    "\n",
    "<h1><font color='purple'> Part 3: Parameter uncertainty and hypothesis test</font></h1>"
   ]
  },
  {
   "cell_type": "markdown",
   "id": "50455ffd",
   "metadata": {},
   "source": [
    "## 3.1 Compute the standard deviation of the output\n",
    "\n",
    "### $\\hat\\sigma_Y = \\sqrt{ \\frac{1}{N-D-1} \\sum_{i=1}^{N}(y_i-\\hat{y}_i)^2 }$"
   ]
  },
  {
   "cell_type": "code",
   "execution_count": 18,
   "id": "79f8a8a6",
   "metadata": {},
   "outputs": [],
   "source": [
    "sigmahatY = np.sqrt(1/(N-D-1)*sum((Y-Yhat)**2))"
   ]
  },
  {
   "cell_type": "markdown",
   "id": "68489ff0",
   "metadata": {},
   "source": [
    "## 3.2 Compute the standard deviations of the parameter estimates\n",
    "\n",
    "### $\\sigma_i = Std(\\hat\\theta_i) = \\hat\\sigma_Y \\sqrt{ v_i } $\n",
    "\n",
    "Here $v_i$ is the $i$'th diagonal component of $V$."
   ]
  },
  {
   "cell_type": "code",
   "execution_count": 19,
   "id": "3feb5436",
   "metadata": {},
   "outputs": [],
   "source": [
    "v = np.diag(V)\n",
    "sigma_theta = sigmahatY*np.sqrt(v)"
   ]
  },
  {
   "cell_type": "markdown",
   "id": "330c5743",
   "metadata": {},
   "source": [
    "## 3.3 Conduct a hypothesis test on each of the parameters, with the null hypothesis that the parameter value is zero. Use a significance level of $\\alpha=0.05$."
   ]
  },
  {
   "cell_type": "code",
   "execution_count": 20,
   "id": "d186dc4f",
   "metadata": {},
   "outputs": [],
   "source": [
    "alpha = 0.05"
   ]
  },
  {
   "cell_type": "markdown",
   "id": "82186db4",
   "metadata": {},
   "source": [
    "### 3.3.1 Compute Z for each parameter\n",
    "\n",
    "### $Z_i = \\hat\\theta_i/\\sigma_i$"
   ]
  },
  {
   "cell_type": "code",
   "execution_count": 21,
   "id": "a9a4b3cc",
   "metadata": {},
   "outputs": [],
   "source": [
    "Z = theta/sigma_theta"
   ]
  },
  {
   "cell_type": "markdown",
   "id": "4ac396c9",
   "metadata": {},
   "source": [
    "### 3.3.2. Compute the p-value for each parameter\n",
    "\n",
    "### $p_i = 2\\: \\Phi_{\\mathcal{N}}(-|Z_i|)$"
   ]
  },
  {
   "cell_type": "code",
   "execution_count": 22,
   "id": "c3f9b0f8",
   "metadata": {},
   "outputs": [
    {
     "name": "stdout",
     "output_type": "stream",
     "text": [
      "[2.68832634e-132 6.59357555e-001 7.12544118e-002 5.23726380e-001\n",
      " 4.20758498e-001 2.18136252e-012 6.53365715e-004 2.62995517e-004\n",
      " 2.96567574e-001 1.68555128e-004 1.17857663e-014 8.23945617e-010\n",
      " 3.48105456e-001 6.44277829e-004 7.79129732e-005 2.48525449e-007\n",
      " 8.63753049e-005 2.67867102e-002 2.63299608e-001 3.76173367e-001\n",
      " 4.99872942e-013 1.25869879e-014 1.87389273e-005]\n"
     ]
    }
   ],
   "source": [
    "p = 2*stats.norm.cdf(-abs(Z))\n",
    "print(p)"
   ]
  },
  {
   "cell_type": "markdown",
   "id": "b171775f",
   "metadata": {},
   "source": [
    "### 3.3.3 Create a boolean mask indicating features that were deemed influential by the hypothesis test (H0 was rejected)\n",
    "\n",
    "Done already."
   ]
  },
  {
   "cell_type": "code",
   "execution_count": 23,
   "id": "a93a1673",
   "metadata": {},
   "outputs": [],
   "source": [
    "ind_influential = p<alpha"
   ]
  },
  {
   "cell_type": "markdown",
   "id": "0d86c1f1",
   "metadata": {},
   "source": [
    "### 3.4 Parameters table.\n",
    "Make a DataFrame with one row per parameter. The index of the table should be the parameter names. The columns should be:\n",
    "+ `theta`: the point estimate of the parameter.\n",
    "+ `stddev`: the estiuamted standard deviation of the parameters.\n",
    "+ `Z`: Z scores computed in part 3.3.1\n",
    "+ `p`: p-values compute in part 3.3.2\n",
    "+ `influential`: the boolean indicator from part 3.3.3.\n",
    "\n",
    "Done already."
   ]
  },
  {
   "cell_type": "code",
   "execution_count": 24,
   "id": "08262582",
   "metadata": {},
   "outputs": [
    {
     "data": {
      "text/html": [
       "<div>\n",
       "<style scoped>\n",
       "    .dataframe tbody tr th:only-of-type {\n",
       "        vertical-align: middle;\n",
       "    }\n",
       "\n",
       "    .dataframe tbody tr th {\n",
       "        vertical-align: top;\n",
       "    }\n",
       "\n",
       "    .dataframe thead th {\n",
       "        text-align: right;\n",
       "    }\n",
       "</style>\n",
       "<table border=\"1\" class=\"dataframe\">\n",
       "  <thead>\n",
       "    <tr style=\"text-align: right;\">\n",
       "      <th></th>\n",
       "      <th>theta</th>\n",
       "      <th>stddev</th>\n",
       "      <th>Z</th>\n",
       "      <th>p</th>\n",
       "      <th>influential</th>\n",
       "    </tr>\n",
       "  </thead>\n",
       "  <tbody>\n",
       "    <tr>\n",
       "      <th>incidencerate</th>\n",
       "      <td>0.187506</td>\n",
       "      <td>0.007661</td>\n",
       "      <td>24.475587</td>\n",
       "      <td>2.688326e-132</td>\n",
       "      <td>True</td>\n",
       "    </tr>\n",
       "    <tr>\n",
       "      <th>medincome</th>\n",
       "      <td>0.000036</td>\n",
       "      <td>0.000082</td>\n",
       "      <td>0.440800</td>\n",
       "      <td>6.593576e-01</td>\n",
       "      <td>False</td>\n",
       "    </tr>\n",
       "    <tr>\n",
       "      <th>povertypercent</th>\n",
       "      <td>0.291682</td>\n",
       "      <td>0.161699</td>\n",
       "      <td>1.803853</td>\n",
       "      <td>7.125441e-02</td>\n",
       "      <td>False</td>\n",
       "    </tr>\n",
       "    <tr>\n",
       "      <th>medianage</th>\n",
       "      <td>-0.005219</td>\n",
       "      <td>0.008185</td>\n",
       "      <td>-0.637612</td>\n",
       "      <td>5.237264e-01</td>\n",
       "      <td>False</td>\n",
       "    </tr>\n",
       "    <tr>\n",
       "      <th>avghouseholdsize</th>\n",
       "      <td>0.797012</td>\n",
       "      <td>0.989947</td>\n",
       "      <td>0.805106</td>\n",
       "      <td>4.207585e-01</td>\n",
       "      <td>False</td>\n",
       "    </tr>\n",
       "    <tr>\n",
       "      <th>percentmarried</th>\n",
       "      <td>1.166145</td>\n",
       "      <td>0.166061</td>\n",
       "      <td>7.022370</td>\n",
       "      <td>2.181363e-12</td>\n",
       "      <td>True</td>\n",
       "    </tr>\n",
       "    <tr>\n",
       "      <th>pctnohs18_24</th>\n",
       "      <td>-0.194668</td>\n",
       "      <td>0.057114</td>\n",
       "      <td>-3.408435</td>\n",
       "      <td>6.533657e-04</td>\n",
       "      <td>True</td>\n",
       "    </tr>\n",
       "    <tr>\n",
       "      <th>pcths18_24</th>\n",
       "      <td>0.183444</td>\n",
       "      <td>0.050269</td>\n",
       "      <td>3.649261</td>\n",
       "      <td>2.629955e-04</td>\n",
       "      <td>True</td>\n",
       "    </tr>\n",
       "    <tr>\n",
       "      <th>pctbachdeg18_24</th>\n",
       "      <td>-0.114888</td>\n",
       "      <td>0.110064</td>\n",
       "      <td>-1.043822</td>\n",
       "      <td>2.965676e-01</td>\n",
       "      <td>False</td>\n",
       "    </tr>\n",
       "    <tr>\n",
       "      <th>pcths25_over</th>\n",
       "      <td>0.369317</td>\n",
       "      <td>0.098170</td>\n",
       "      <td>3.762007</td>\n",
       "      <td>1.685551e-04</td>\n",
       "      <td>True</td>\n",
       "    </tr>\n",
       "    <tr>\n",
       "      <th>pctbachdeg25_over</th>\n",
       "      <td>-1.220256</td>\n",
       "      <td>0.158098</td>\n",
       "      <td>-7.718337</td>\n",
       "      <td>1.178577e-14</td>\n",
       "      <td>True</td>\n",
       "    </tr>\n",
       "    <tr>\n",
       "      <th>pctemployed16_over</th>\n",
       "      <td>-0.673616</td>\n",
       "      <td>0.109705</td>\n",
       "      <td>-6.140244</td>\n",
       "      <td>8.239456e-10</td>\n",
       "      <td>True</td>\n",
       "    </tr>\n",
       "    <tr>\n",
       "      <th>pctunemployed16_over</th>\n",
       "      <td>0.159057</td>\n",
       "      <td>0.169522</td>\n",
       "      <td>0.938270</td>\n",
       "      <td>3.481055e-01</td>\n",
       "      <td>False</td>\n",
       "    </tr>\n",
       "    <tr>\n",
       "      <th>pctprivatecoverage</th>\n",
       "      <td>-0.451365</td>\n",
       "      <td>0.132278</td>\n",
       "      <td>-3.412255</td>\n",
       "      <td>6.442778e-04</td>\n",
       "      <td>True</td>\n",
       "    </tr>\n",
       "    <tr>\n",
       "      <th>pctempprivcoverage</th>\n",
       "      <td>0.421374</td>\n",
       "      <td>0.106657</td>\n",
       "      <td>3.950731</td>\n",
       "      <td>7.791297e-05</td>\n",
       "      <td>True</td>\n",
       "    </tr>\n",
       "    <tr>\n",
       "      <th>pctpubliccoverage</th>\n",
       "      <td>-0.948335</td>\n",
       "      <td>0.183828</td>\n",
       "      <td>-5.158809</td>\n",
       "      <td>2.485254e-07</td>\n",
       "      <td>True</td>\n",
       "    </tr>\n",
       "    <tr>\n",
       "      <th>pctpubliccoveragealone</th>\n",
       "      <td>1.011222</td>\n",
       "      <td>0.257571</td>\n",
       "      <td>3.925986</td>\n",
       "      <td>8.637530e-05</td>\n",
       "      <td>True</td>\n",
       "    </tr>\n",
       "    <tr>\n",
       "      <th>pctwhite</th>\n",
       "      <td>-0.131077</td>\n",
       "      <td>0.059187</td>\n",
       "      <td>-2.214612</td>\n",
       "      <td>2.678671e-02</td>\n",
       "      <td>True</td>\n",
       "    </tr>\n",
       "    <tr>\n",
       "      <th>pctblack</th>\n",
       "      <td>-0.063329</td>\n",
       "      <td>0.056613</td>\n",
       "      <td>-1.118626</td>\n",
       "      <td>2.632996e-01</td>\n",
       "      <td>False</td>\n",
       "    </tr>\n",
       "    <tr>\n",
       "      <th>pctasian</th>\n",
       "      <td>-0.161777</td>\n",
       "      <td>0.182805</td>\n",
       "      <td>-0.884969</td>\n",
       "      <td>3.761734e-01</td>\n",
       "      <td>False</td>\n",
       "    </tr>\n",
       "    <tr>\n",
       "      <th>pctotherrace</th>\n",
       "      <td>-0.903198</td>\n",
       "      <td>0.125004</td>\n",
       "      <td>-7.225334</td>\n",
       "      <td>4.998729e-13</td>\n",
       "      <td>True</td>\n",
       "    </tr>\n",
       "    <tr>\n",
       "      <th>pctmarriedhouseholds</th>\n",
       "      <td>-1.270509</td>\n",
       "      <td>0.164788</td>\n",
       "      <td>-7.709947</td>\n",
       "      <td>1.258699e-14</td>\n",
       "      <td>True</td>\n",
       "    </tr>\n",
       "    <tr>\n",
       "      <th>birthrate</th>\n",
       "      <td>-0.830525</td>\n",
       "      <td>0.194075</td>\n",
       "      <td>-4.279410</td>\n",
       "      <td>1.873893e-05</td>\n",
       "      <td>True</td>\n",
       "    </tr>\n",
       "  </tbody>\n",
       "</table>\n",
       "</div>"
      ],
      "text/plain": [
       "                           theta    stddev          Z              p  \\\n",
       "incidencerate           0.187506  0.007661  24.475587  2.688326e-132   \n",
       "medincome               0.000036  0.000082   0.440800   6.593576e-01   \n",
       "povertypercent          0.291682  0.161699   1.803853   7.125441e-02   \n",
       "medianage              -0.005219  0.008185  -0.637612   5.237264e-01   \n",
       "avghouseholdsize        0.797012  0.989947   0.805106   4.207585e-01   \n",
       "percentmarried          1.166145  0.166061   7.022370   2.181363e-12   \n",
       "pctnohs18_24           -0.194668  0.057114  -3.408435   6.533657e-04   \n",
       "pcths18_24              0.183444  0.050269   3.649261   2.629955e-04   \n",
       "pctbachdeg18_24        -0.114888  0.110064  -1.043822   2.965676e-01   \n",
       "pcths25_over            0.369317  0.098170   3.762007   1.685551e-04   \n",
       "pctbachdeg25_over      -1.220256  0.158098  -7.718337   1.178577e-14   \n",
       "pctemployed16_over     -0.673616  0.109705  -6.140244   8.239456e-10   \n",
       "pctunemployed16_over    0.159057  0.169522   0.938270   3.481055e-01   \n",
       "pctprivatecoverage     -0.451365  0.132278  -3.412255   6.442778e-04   \n",
       "pctempprivcoverage      0.421374  0.106657   3.950731   7.791297e-05   \n",
       "pctpubliccoverage      -0.948335  0.183828  -5.158809   2.485254e-07   \n",
       "pctpubliccoveragealone  1.011222  0.257571   3.925986   8.637530e-05   \n",
       "pctwhite               -0.131077  0.059187  -2.214612   2.678671e-02   \n",
       "pctblack               -0.063329  0.056613  -1.118626   2.632996e-01   \n",
       "pctasian               -0.161777  0.182805  -0.884969   3.761734e-01   \n",
       "pctotherrace           -0.903198  0.125004  -7.225334   4.998729e-13   \n",
       "pctmarriedhouseholds   -1.270509  0.164788  -7.709947   1.258699e-14   \n",
       "birthrate              -0.830525  0.194075  -4.279410   1.873893e-05   \n",
       "\n",
       "                        influential  \n",
       "incidencerate                  True  \n",
       "medincome                     False  \n",
       "povertypercent                False  \n",
       "medianage                     False  \n",
       "avghouseholdsize              False  \n",
       "percentmarried                 True  \n",
       "pctnohs18_24                   True  \n",
       "pcths18_24                     True  \n",
       "pctbachdeg18_24               False  \n",
       "pcths25_over                   True  \n",
       "pctbachdeg25_over              True  \n",
       "pctemployed16_over             True  \n",
       "pctunemployed16_over          False  \n",
       "pctprivatecoverage             True  \n",
       "pctempprivcoverage             True  \n",
       "pctpubliccoverage              True  \n",
       "pctpubliccoveragealone         True  \n",
       "pctwhite                       True  \n",
       "pctblack                      False  \n",
       "pctasian                      False  \n",
       "pctotherrace                   True  \n",
       "pctmarriedhouseholds           True  \n",
       "birthrate                      True  "
      ]
     },
     "execution_count": 24,
     "metadata": {},
     "output_type": "execute_result"
    }
   ],
   "source": [
    "lr_params = pd.DataFrame(index=features,\n",
    "             data={'theta':theta,\n",
    "                   'stddev':sigma_theta,\n",
    "                   'Z':Z,\n",
    "                   'p':p,\n",
    "                   'influential':ind_influential})\n",
    "\n",
    "lr_params"
   ]
  },
  {
   "cell_type": "markdown",
   "id": "0684d43e",
   "metadata": {},
   "source": [
    "## 3.5 Sort the parameters table by p-value\n",
    "\n",
    "Create a new DataFrame called `lr_params_sorted` by sorting the values in ascending order, according to p-values.\n",
    "\n",
    "Hint: [`sort_values`](https://pandas.pydata.org/docs/reference/api/pandas.DataFrame.sort_values.html)"
   ]
  },
  {
   "cell_type": "code",
   "execution_count": 25,
   "id": "bc61db10",
   "metadata": {},
   "outputs": [],
   "source": [
    "lr_params_sorted = lr_params.sort_values(by=['p'],axis=0, ascending=True)"
   ]
  },
  {
   "cell_type": "markdown",
   "id": "650ad358",
   "metadata": {},
   "source": [
    "## 3.6 Bar plot\n",
    "\n",
    "The bar plot below shows the parameter values along with their 95% (2$\\sigma$) confidence intervals. Influential fetaures are showns in green, non-influential features are shown in red."
   ]
  },
  {
   "cell_type": "code",
   "execution_count": 26,
   "id": "fa70d3d6",
   "metadata": {},
   "outputs": [
    {
     "data": {
      "image/png": "[encoded data removed]",
      "text/plain": [
       "<Figure size 1080x360 with 1 Axes>"
      ]
     },
     "metadata": {
      "needs_background": "light"
     },
     "output_type": "display_data"
    }
   ],
   "source": [
    "color = np.array(['g' for i in range(D)])\n",
    "color[~lr_params_sorted['influential']] = 'r'\n",
    "\n",
    "lr_params_sorted.plot(kind='bar',\n",
    "                y='theta',\n",
    "                yerr=2*lr_params_sorted['stddev'],\n",
    "                figsize=(15,5),\n",
    "                color=color,\n",
    "                legend=False)\n",
    "plt.grid(linestyle=':')"
   ]
  },
  {
   "cell_type": "markdown",
   "id": "36e080db",
   "metadata": {},
   "source": [
    "## 3.7 Build list of features to keep\n",
    "\n",
    "Extract the names of influential features from `lr_params_sorted` and store them in `features` (overwrite the previous values). `features` should be a numpy array with shape `(15,)`."
   ]
  },
  {
   "cell_type": "code",
   "execution_count": 28,
   "id": "c602b11c",
   "metadata": {},
   "outputs": [
    {
     "name": "stdout",
     "output_type": "stream",
     "text": [
      "['incidencerate' 'pctbachdeg25_over' 'pctmarriedhouseholds' 'pctotherrace'\n",
      " 'percentmarried' 'pctemployed16_over' 'pctpubliccoverage' 'birthrate'\n",
      " 'pctempprivcoverage' 'pctpubliccoveragealone' 'pcths25_over' 'pcths18_24'\n",
      " 'pctprivatecoverage' 'pctnohs18_24' 'pctwhite']\n",
      "(15,)\n"
     ]
    }
   ],
   "source": [
    "features = lr_params_sorted[\"influential\"]\n",
    "\n",
    "features = features.iloc[0:15]\n",
    "features = features.keys().values.tolist()\n",
    "features = np.array(features)\n",
    "print(features)\n",
    "print(features.shape)"
   ]
  },
  {
   "cell_type": "markdown",
   "id": "a5654831",
   "metadata": {},
   "source": [
    "## 3.8 Create a new DataFrame with only the chosen features\n",
    "\n",
    "Done already. Notice that the target variable is now called `Y`."
   ]
  },
  {
   "cell_type": "code",
   "execution_count": 29,
   "id": "7d115a9a",
   "metadata": {},
   "outputs": [
    {
     "data": {
      "text/html": [
       "<div>\n",
       "<style scoped>\n",
       "    .dataframe tbody tr th:only-of-type {\n",
       "        vertical-align: middle;\n",
       "    }\n",
       "\n",
       "    .dataframe tbody tr th {\n",
       "        vertical-align: top;\n",
       "    }\n",
       "\n",
       "    .dataframe thead th {\n",
       "        text-align: right;\n",
       "    }\n",
       "</style>\n",
       "<table border=\"1\" class=\"dataframe\">\n",
       "  <thead>\n",
       "    <tr style=\"text-align: right;\">\n",
       "      <th></th>\n",
       "      <th>incidencerate</th>\n",
       "      <th>pctbachdeg25_over</th>\n",
       "      <th>pctmarriedhouseholds</th>\n",
       "      <th>pctotherrace</th>\n",
       "      <th>percentmarried</th>\n",
       "      <th>pctemployed16_over</th>\n",
       "      <th>pctpubliccoverage</th>\n",
       "      <th>birthrate</th>\n",
       "      <th>pctempprivcoverage</th>\n",
       "      <th>pctpubliccoveragealone</th>\n",
       "      <th>pcths25_over</th>\n",
       "      <th>pcths18_24</th>\n",
       "      <th>pctprivatecoverage</th>\n",
       "      <th>pctnohs18_24</th>\n",
       "      <th>pctwhite</th>\n",
       "      <th>Y</th>\n",
       "    </tr>\n",
       "  </thead>\n",
       "  <tbody>\n",
       "    <tr>\n",
       "      <th>0</th>\n",
       "      <td>489.8</td>\n",
       "      <td>19.6</td>\n",
       "      <td>52.856076</td>\n",
       "      <td>1.843479</td>\n",
       "      <td>52.5</td>\n",
       "      <td>51.9</td>\n",
       "      <td>32.9</td>\n",
       "      <td>6.118831</td>\n",
       "      <td>41.6</td>\n",
       "      <td>14.0</td>\n",
       "      <td>23.2</td>\n",
       "      <td>39.5</td>\n",
       "      <td>75.1</td>\n",
       "      <td>11.5</td>\n",
       "      <td>81.780529</td>\n",
       "      <td>164.9</td>\n",
       "    </tr>\n",
       "    <tr>\n",
       "      <th>1</th>\n",
       "      <td>411.6</td>\n",
       "      <td>22.7</td>\n",
       "      <td>45.372500</td>\n",
       "      <td>3.741352</td>\n",
       "      <td>44.5</td>\n",
       "      <td>55.9</td>\n",
       "      <td>31.1</td>\n",
       "      <td>4.333096</td>\n",
       "      <td>43.6</td>\n",
       "      <td>15.3</td>\n",
       "      <td>26.0</td>\n",
       "      <td>22.4</td>\n",
       "      <td>70.2</td>\n",
       "      <td>6.1</td>\n",
       "      <td>89.228509</td>\n",
       "      <td>161.3</td>\n",
       "    </tr>\n",
       "    <tr>\n",
       "      <th>2</th>\n",
       "      <td>349.7</td>\n",
       "      <td>16.0</td>\n",
       "      <td>54.444868</td>\n",
       "      <td>2.747358</td>\n",
       "      <td>54.2</td>\n",
       "      <td>45.9</td>\n",
       "      <td>42.1</td>\n",
       "      <td>3.729488</td>\n",
       "      <td>34.9</td>\n",
       "      <td>21.1</td>\n",
       "      <td>29.0</td>\n",
       "      <td>36.6</td>\n",
       "      <td>63.7</td>\n",
       "      <td>24.0</td>\n",
       "      <td>90.922190</td>\n",
       "      <td>174.7</td>\n",
       "    </tr>\n",
       "    <tr>\n",
       "      <th>3</th>\n",
       "      <td>430.4</td>\n",
       "      <td>9.3</td>\n",
       "      <td>51.021514</td>\n",
       "      <td>1.362643</td>\n",
       "      <td>52.7</td>\n",
       "      <td>48.3</td>\n",
       "      <td>45.3</td>\n",
       "      <td>4.603841</td>\n",
       "      <td>35.0</td>\n",
       "      <td>25.0</td>\n",
       "      <td>31.6</td>\n",
       "      <td>41.2</td>\n",
       "      <td>58.4</td>\n",
       "      <td>20.2</td>\n",
       "      <td>91.744686</td>\n",
       "      <td>194.8</td>\n",
       "    </tr>\n",
       "    <tr>\n",
       "      <th>4</th>\n",
       "      <td>350.1</td>\n",
       "      <td>15.0</td>\n",
       "      <td>54.027460</td>\n",
       "      <td>0.492135</td>\n",
       "      <td>57.8</td>\n",
       "      <td>48.2</td>\n",
       "      <td>44.0</td>\n",
       "      <td>6.796657</td>\n",
       "      <td>35.1</td>\n",
       "      <td>22.7</td>\n",
       "      <td>33.4</td>\n",
       "      <td>43.0</td>\n",
       "      <td>61.6</td>\n",
       "      <td>14.9</td>\n",
       "      <td>94.104024</td>\n",
       "      <td>144.4</td>\n",
       "    </tr>\n",
       "  </tbody>\n",
       "</table>\n",
       "</div>"
      ],
      "text/plain": [
       "   incidencerate  pctbachdeg25_over  pctmarriedhouseholds  pctotherrace  \\\n",
       "0          489.8               19.6             52.856076      1.843479   \n",
       "1          411.6               22.7             45.372500      3.741352   \n",
       "2          349.7               16.0             54.444868      2.747358   \n",
       "3          430.4                9.3             51.021514      1.362643   \n",
       "4          350.1               15.0             54.027460      0.492135   \n",
       "\n",
       "   percentmarried  pctemployed16_over  pctpubliccoverage  birthrate  \\\n",
       "0            52.5                51.9               32.9   6.118831   \n",
       "1            44.5                55.9               31.1   4.333096   \n",
       "2            54.2                45.9               42.1   3.729488   \n",
       "3            52.7                48.3               45.3   4.603841   \n",
       "4            57.8                48.2               44.0   6.796657   \n",
       "\n",
       "   pctempprivcoverage  pctpubliccoveragealone  pcths25_over  pcths18_24  \\\n",
       "0                41.6                    14.0          23.2        39.5   \n",
       "1                43.6                    15.3          26.0        22.4   \n",
       "2                34.9                    21.1          29.0        36.6   \n",
       "3                35.0                    25.0          31.6        41.2   \n",
       "4                35.1                    22.7          33.4        43.0   \n",
       "\n",
       "   pctprivatecoverage  pctnohs18_24   pctwhite      Y  \n",
       "0                75.1          11.5  81.780529  164.9  \n",
       "1                70.2           6.1  89.228509  161.3  \n",
       "2                63.7          24.0  90.922190  174.7  \n",
       "3                58.4          20.2  91.744686  194.8  \n",
       "4                61.6          14.9  94.104024  144.4  "
      ]
     },
     "execution_count": 29,
     "metadata": {},
     "output_type": "execute_result"
    }
   ],
   "source": [
    "D = data[features].copy()\n",
    "D['Y'] = data['target_deathrate']\n",
    "D.head()"
   ]
  },
  {
   "cell_type": "code",
   "execution_count": null,
   "id": "a26538df",
   "metadata": {},
   "outputs": [],
   "source": []
  }
 ],
 "metadata": {
  "kernelspec": {
   "display_name": "Python 3",
   "language": "python",
   "name": "python3"
  },
  "language_info": {
   "codemirror_mode": {
    "name": "ipython",
    "version": 3
   },
   "file_extension": ".py",
   "mimetype": "text/x-python",
   "name": "python",
   "nbconvert_exporter": "python",
   "pygments_lexer": "ipython3",
   "version": "3.8.3"
  }
 },
 "nbformat": 4,
 "nbformat_minor": 5
}
